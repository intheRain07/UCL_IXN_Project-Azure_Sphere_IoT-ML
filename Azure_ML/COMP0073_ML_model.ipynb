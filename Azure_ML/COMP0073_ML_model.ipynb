{
  "cells": [
    {
      "cell_type": "markdown",
      "source": [
        "## Workspace"
      ],
      "metadata": {
        "nteract": {
          "transient": {
            "deleting": false
          }
        }
      }
    },
    {
      "cell_type": "code",
      "source": [
        "from azureml.core import Workspace\r\n",
        "\r\n",
        "ws = Workspace.from_config()\r\n",
        "\r\n",
        "print(ws)"
      ],
      "outputs": [
        {
          "output_type": "stream",
          "name": "stdout",
          "text": "Workspace.create(name='yuxinazml', subscription_id='4212cdcd-1336-4578-8079-a10d6f3df25e', resource_group='azuremlgroup')\n"
        }
      ],
      "execution_count": 14,
      "metadata": {
        "gather": {
          "logged": 1631193650008
        }
      }
    },
    {
      "cell_type": "markdown",
      "source": [
        "## Environment"
      ],
      "metadata": {
        "nteract": {
          "transient": {
            "deleting": false
          }
        }
      }
    },
    {
      "cell_type": "code",
      "source": [
        "from azureml.core import Environment\r\n",
        "\r\n",
        "sklearn_env = Environment.get(workspace=ws, name='AzureML-Tutorial')"
      ],
      "outputs": [],
      "execution_count": 15,
      "metadata": {
        "collapsed": true,
        "jupyter": {
          "source_hidden": false,
          "outputs_hidden": false
        },
        "nteract": {
          "transient": {
            "deleting": false
          }
        },
        "gather": {
          "logged": 1631193651941
        }
      }
    },
    {
      "cell_type": "markdown",
      "source": [
        "## Train my poly regression model on instance."
      ],
      "metadata": {
        "nteract": {
          "transient": {
            "deleting": false
          }
        }
      }
    },
    {
      "cell_type": "code",
      "source": [
        "import joblib \r\n",
        "import pandas as pd\r\n",
        "\r\n",
        "import sklearn\r\n",
        "from sklearn.linear_model import LinearRegression\r\n",
        "from sklearn.linear_model import Ridge\r\n",
        "\r\n",
        "# Import data munging tools\r\n",
        "from sklearn.model_selection import train_test_split\r\n",
        "from sklearn.preprocessing import PolynomialFeatures\r\n",
        "\r\n",
        "# Import error metric\r\n",
        "from sklearn.metrics import mean_absolute_error\r\n",
        "\r\n",
        "data = pd.read_csv('./people_in_supermarket_v2.csv')\r\n",
        "X = data.iloc[:, 0:-1]\r\n",
        "y = data['numOfpeopleNextmin']\r\n",
        "\r\n",
        "x_train, x_test, y_train, y_test = train_test_split(X, y, test_size = 0.2, random_state = 0)\r\n",
        "\r\n",
        "# redige regression\r\n",
        "poly_features = PolynomialFeatures(degree = 11) \r\n",
        "# Transform training and test datasets \r\n",
        "x_train_poly = poly_features.fit_transform(x_train)\r\n",
        "x_test_poly = poly_features.fit_transform(x_test)\r\n",
        "\r\n",
        "lambda_value = 1E-15\r\n",
        "ridge_reg = Ridge(alpha = lambda_value, normalize = True)\r\n",
        "# Fit the model\r\n",
        "ridge_reg.fit(x_train_poly,y_train)\r\n",
        "\r\n",
        "joblib.dump(ridge_reg, \"0073_poly_regression_model.pkl\") # store the trained model in pkl file "
      ],
      "outputs": [
        {
          "output_type": "execute_result",
          "execution_count": 16,
          "data": {
            "text/plain": "['0073_poly_regression_model.pkl']"
          },
          "metadata": {}
        }
      ],
      "execution_count": 16,
      "metadata": {
        "collapsed": true,
        "jupyter": {
          "source_hidden": false,
          "outputs_hidden": false
        },
        "nteract": {
          "transient": {
            "deleting": false
          }
        },
        "gather": {
          "logged": 1631193660560
        }
      }
    },
    {
      "cell_type": "code",
      "source": [
        "# Compute the predictions of the model for test set\r\n",
        "y_reg_test_pred = ridge_reg.predict(x_test_poly)\r\n",
        "# Compute the Mean Absoluate Error for test set, then append the value to the lists \r\n",
        "abses_test_error = mean_absolute_error(y_test, y_reg_test_pred)\r\n",
        "\r\n",
        "print(abses_test_error) "
      ],
      "outputs": [
        {
          "output_type": "stream",
          "name": "stdout",
          "text": "2.9492153069114933\n"
        }
      ],
      "execution_count": 17,
      "metadata": {
        "collapsed": true,
        "jupyter": {
          "source_hidden": false,
          "outputs_hidden": false
        },
        "nteract": {
          "transient": {
            "deleting": false
          }
        },
        "gather": {
          "logged": 1631193668194
        }
      }
    },
    {
      "cell_type": "markdown",
      "source": [
        "## Register model"
      ],
      "metadata": {
        "nteract": {
          "transient": {
            "deleting": false
          }
        }
      }
    },
    {
      "cell_type": "code",
      "source": [
        "from azureml.core import Model\r\n",
        "from azureml.core.resource_configuration import ResourceConfiguration\r\n",
        "\r\n",
        "#-------------------my poly LR model----------------------\r\n",
        "model = Model.register(model_path=\"0073_poly_regression_model.pkl\",\r\n",
        "                       model_name=\"0073_poly_regression_model\",\r\n",
        "                       description=\"0073 Poly ridge regression model\",\r\n",
        "                       workspace=ws)"
      ],
      "outputs": [
        {
          "output_type": "stream",
          "name": "stdout",
          "text": "Registering model 0073_poly_regression_model\n"
        }
      ],
      "execution_count": 31,
      "metadata": {
        "collapsed": true,
        "jupyter": {
          "source_hidden": false,
          "outputs_hidden": false
        },
        "nteract": {
          "transient": {
            "deleting": false
          }
        },
        "gather": {
          "logged": 1631195102614
        }
      }
    },
    {
      "cell_type": "markdown",
      "source": [
        "## Deployment"
      ],
      "metadata": {
        "nteract": {
          "transient": {
            "deleting": false
          }
        }
      }
    },
    {
      "cell_type": "markdown",
      "source": [
        "Create environment"
      ],
      "metadata": {
        "nteract": {
          "transient": {
            "deleting": false
          }
        }
      }
    },
    {
      "cell_type": "code",
      "source": [
        "import sklearn\r\n",
        "\r\n",
        "from azureml.core.environment import Environment\r\n",
        "\r\n",
        "environment = Environment(\"LocalDeploy\")\r\n",
        "environment.python.conda_dependencies.add_pip_package(\"inference-schema[numpy-support]\")\r\n",
        "environment.python.conda_dependencies.add_pip_package(\"joblib\")\r\n",
        "environment.python.conda_dependencies.add_pip_package(\"scikit-learn=={}\".format(sklearn.__version__))"
      ],
      "outputs": [],
      "execution_count": 40,
      "metadata": {
        "jupyter": {
          "source_hidden": false,
          "outputs_hidden": false
        },
        "nteract": {
          "transient": {
            "deleting": false
          }
        },
        "gather": {
          "logged": 1631195635791
        }
      }
    },
    {
      "cell_type": "markdown",
      "source": [
        "Configure"
      ],
      "metadata": {
        "nteract": {
          "transient": {
            "deleting": false
          }
        }
      }
    },
    {
      "cell_type": "code",
      "source": [
        "# Define an inference configuration\r\n",
        "from azureml.core import Environment\r\n",
        "from azureml.core.model import InferenceConfig\r\n",
        "\r\n",
        "# -------------------Inference config--------------------------\r\n",
        "inference_config = InferenceConfig(\r\n",
        "    environment = environment,\r\n",
        "    entry_script=\"score.py\"\r\n",
        ")\r\n",
        "\r\n",
        "# -------------------Local Deploy config--------------------------\r\n",
        "from azureml.core.webservice import LocalWebservice\r\n",
        "\r\n",
        "deployment_config = LocalWebservice.deploy_configuration()\r\n",
        "\r\n",
        "# -------------------WEB Deploy config--------------------------\r\n",
        "from azureml.core.webservice import AciWebservice\r\n",
        "\r\n",
        "web_deployment_config = AciWebservice.deploy_configuration(\r\n",
        "    cpu_cores = 0.5, memory_gb = 1, auth_enabled = False\r\n",
        ")"
      ],
      "outputs": [],
      "execution_count": 41,
      "metadata": {
        "collapsed": true,
        "jupyter": {
          "source_hidden": false,
          "outputs_hidden": false
        },
        "nteract": {
          "transient": {
            "deleting": false
          }
        },
        "gather": {
          "logged": 1631195656518
        }
      }
    },
    {
      "cell_type": "markdown",
      "source": [
        "Local Deploy"
      ],
      "metadata": {
        "nteract": {
          "transient": {
            "deleting": false
          }
        }
      }
    },
    {
      "cell_type": "code",
      "source": [
        "# deploy\r\n",
        "local_service = Model.deploy(\r\n",
        "    ws, \r\n",
        "    \"mscproj-poly-regression-model\", \r\n",
        "    [model], \r\n",
        "    inference_config,\r\n",
        "    deployment_config,\r\n",
        "    overwrite = True \r\n",
        ")\r\n",
        "\r\n",
        "local_service.wait_for_deployment(show_output=True)"
      ],
      "outputs": [
        {
          "output_type": "stream",
          "name": "stdout",
          "text": "Downloading model 0073_poly_regression_model:7 to /tmp/azureml_bubq1iqt/0073_poly_regression_model/7\nGenerating Docker build context.\nPackage creation Succeeded\nLogging into Docker registry 71ab244ead974779bb6a9f390be30da0.azurecr.io\nLogging into Docker registry 71ab244ead974779bb6a9f390be30da0.azurecr.io\nBuilding Docker image from Dockerfile...\nStep 1/5 : FROM 71ab244ead974779bb6a9f390be30da0.azurecr.io/azureml/azureml_299b69c7fbf0f4df0b504c4c5025191b\n ---> b3d9beafdfc6\nStep 2/5 : COPY azureml-app /var/azureml-app\n ---> af6e25507e49\nStep 3/5 : RUN mkdir -p '/var/azureml-app' && echo eyJhY2NvdW50Q29udGV4dCI6eyJzdWJzY3JpcHRpb25JZCI6IjQyMTJjZGNkLTEzMzYtNDU3OC04MDc5LWExMGQ2ZjNkZjI1ZSIsInJlc291cmNlR3JvdXBOYW1lIjoiYXp1cmVtbGdyb3VwIiwiYWNjb3VudE5hbWUiOiJ5dXhpbmF6bWwiLCJ3b3Jrc3BhY2VJZCI6IjcxYWIyNDRlLWFkOTctNDc3OS1iYjZhLTlmMzkwYmUzMGRhMCJ9LCJtb2RlbHMiOnt9LCJtb2RlbHNJbmZvIjp7fX0= | base64 --decode > /var/azureml-app/model_config_map.json\n ---> Running in a584f2dcde34\n ---> d599e5439517\nStep 4/5 : RUN mv '/var/azureml-app/tmpg21znf_w.py' /var/azureml-app/main.py\n ---> Running in f294e59829eb\n ---> de5d39a7b961\nStep 5/5 : CMD [\"runsvdir\",\"/var/runit\"]\n ---> Running in 54114b5b6aa0\n ---> 059d9ca3ebfb\nSuccessfully built 059d9ca3ebfb\nSuccessfully tagged mscproj-poly-regression-model:latest\nContainer has been successfully cleaned up.\nImage sha256:4d5966c12007ebe0c3f7a4f848f0fedbfb1cd2b41e41d949be033c68ec5ea7f2 successfully removed.\nStarting Docker container...\nDocker container running.\nChecking container health...\nLocal webservice is running at http://localhost:49175\n"
        }
      ],
      "execution_count": 43,
      "metadata": {
        "collapsed": true,
        "jupyter": {
          "source_hidden": false,
          "outputs_hidden": true
        },
        "nteract": {
          "transient": {
            "deleting": false
          }
        },
        "gather": {
          "logged": 1631195748570
        }
      }
    },
    {
      "cell_type": "code",
      "source": [
        "import requests\r\n",
        "import json\r\n",
        "\r\n",
        "uri = local_service.scoring_uri\r\n",
        "print(uri)\r\n",
        "headers = {\"Content-Type\": \"application/json\"}\r\n",
        "data = {\r\n",
        "    \"data\": [[5, 14, 32, 60]] \r\n",
        "}\r\n",
        "data_json = json.dumps(data)\r\n",
        "response = requests.post(uri, data = data_json, headers = headers)\r\n",
        "print(response.json()[0])\r\n"
      ],
      "outputs": [
        {
          "output_type": "stream",
          "name": "stdout",
          "text": "http://localhost:49175/score\n33.23912437929539\n"
        }
      ],
      "execution_count": 44,
      "metadata": {
        "collapsed": true,
        "jupyter": {
          "source_hidden": false,
          "outputs_hidden": false
        },
        "nteract": {
          "transient": {
            "deleting": false
          }
        },
        "gather": {
          "logged": 1631195754095
        }
      }
    },
    {
      "cell_type": "code",
      "source": [
        "# test by model traind by instance\r\n",
        "x_poly = poly_features.fit_transform([[5, 14, 32, 60]]) \r\n",
        "print(ridge_reg.predict(x_poly)) "
      ],
      "outputs": [
        {
          "output_type": "stream",
          "name": "stdout",
          "text": "[33.23912438]\n"
        }
      ],
      "execution_count": 45,
      "metadata": {
        "collapsed": true,
        "jupyter": {
          "source_hidden": false,
          "outputs_hidden": false
        },
        "nteract": {
          "transient": {
            "deleting": false
          }
        },
        "gather": {
          "logged": 1631195759600
        }
      }
    },
    {
      "cell_type": "markdown",
      "source": [
        "Web Deploy"
      ],
      "metadata": {
        "nteract": {
          "transient": {
            "deleting": false
          }
        }
      }
    },
    {
      "cell_type": "code",
      "source": [
        "# WEB deploy\r\n",
        "web_service = Model.deploy(\r\n",
        "    ws,\r\n",
        "    \"mscproj-ml-webservice\",\r\n",
        "    [model],\r\n",
        "    inference_config,\r\n",
        "    web_deployment_config,\r\n",
        "    overwrite = True,\r\n",
        ")\r\n",
        "web_service.wait_for_deployment(show_output=True)"
      ],
      "outputs": [
        {
          "output_type": "stream",
          "name": "stdout",
          "text": "Tips: You can try get_logs(): https://aka.ms/debugimage#dockerlog or local deployment: https://aka.ms/debugimage#debug-locally to debug if deployment takes longer than 10 minutes.\nRunning\n2021-09-09 13:56:07+00:00 Creating Container Registry if not exists.\n2021-09-09 13:56:07+00:00 Registering the environment.\n2021-09-09 13:56:07+00:00 Use the existing image.\n2021-09-09 13:56:07+00:00 Generating deployment configuration.\n2021-09-09 13:56:08+00:00 Submitting deployment to compute.\n2021-09-09 13:56:14+00:00 Checking the status of deployment mscproj-ml-webservice..\n2021-09-09 13:58:15+00:00 Checking the status of inference endpoint mscproj-ml-webservice.\nSucceeded\nACI service creation operation finished, operation \"Succeeded\"\n"
        }
      ],
      "execution_count": 46,
      "metadata": {
        "collapsed": true,
        "jupyter": {
          "source_hidden": false,
          "outputs_hidden": false
        },
        "nteract": {
          "transient": {
            "deleting": false
          }
        },
        "gather": {
          "logged": 1631195899624
        }
      }
    },
    {
      "cell_type": "markdown",
      "source": [
        "WEB update"
      ],
      "metadata": {
        "nteract": {
          "transient": {
            "deleting": false
          }
        }
      }
    },
    {
      "cell_type": "code",
      "source": [
        "# web_service.update(\r\n",
        "#     models = [model], \r\n",
        "#     inference_config = inference_config,\r\n",
        "#     deployment_config = web_deployment_config\r\n",
        "#     )"
      ],
      "outputs": [],
      "execution_count": null,
      "metadata": {
        "collapsed": true,
        "jupyter": {
          "source_hidden": false,
          "outputs_hidden": false
        },
        "nteract": {
          "transient": {
            "deleting": false
          }
        }
      }
    },
    {
      "cell_type": "markdown",
      "source": [
        "WEB service test"
      ],
      "metadata": {
        "nteract": {
          "transient": {
            "deleting": false
          }
        }
      }
    },
    {
      "cell_type": "code",
      "source": [
        "print(f'URL: {web_service.scoring_uri}') "
      ],
      "outputs": [
        {
          "output_type": "stream",
          "name": "stdout",
          "text": "URL: http://be61aad3-0d12-44d3-9cd0-04ebed5dfeeb.uksouth.azurecontainer.io/score\n"
        }
      ],
      "execution_count": 47,
      "metadata": {
        "collapsed": true,
        "jupyter": {
          "source_hidden": false,
          "outputs_hidden": false
        },
        "nteract": {
          "transient": {
            "deleting": false
          }
        },
        "gather": {
          "logged": 1631195906895
        }
      }
    },
    {
      "cell_type": "code",
      "source": [
        "import requests\r\n",
        "import json\r\n",
        "\r\n",
        "uri = web_service.scoring_uri\r\n",
        "print(uri)\r\n",
        "headers = {\"Content-Type\": \"application/json\"}\r\n",
        "data = {\r\n",
        "   \"data\": [[4, 12, 17, 30]] \r\n",
        "}\r\n",
        "data_json = json.dumps(data)\r\n",
        "response = requests.post(uri, data = data_json, headers = headers)\r\n",
        "print(response.json())\r\n"
      ],
      "outputs": [
        {
          "output_type": "stream",
          "name": "stdout",
          "text": "http://be61aad3-0d12-44d3-9cd0-04ebed5dfeeb.uksouth.azurecontainer.io/score\n[25.7861097825662]\n"
        }
      ],
      "execution_count": 48,
      "metadata": {
        "collapsed": true,
        "jupyter": {
          "source_hidden": false,
          "outputs_hidden": false
        },
        "nteract": {
          "transient": {
            "deleting": false
          }
        },
        "gather": {
          "logged": 1631195910062
        }
      }
    },
    {
      "cell_type": "code",
      "source": [
        "x_poly = poly_features.fit_transform([[4, 12, 17, 30]]) \r\n",
        "print(ridge_reg.predict(x_poly)) "
      ],
      "outputs": [],
      "execution_count": null,
      "metadata": {
        "collapsed": true,
        "jupyter": {
          "source_hidden": false,
          "outputs_hidden": false
        },
        "nteract": {
          "transient": {
            "deleting": false
          }
        },
        "gather": {
          "logged": 1627588761180
        }
      }
    }
  ],
  "metadata": {
    "kernelspec": {
      "name": "python3-azureml",
      "language": "python",
      "display_name": "Python 3.6 - AzureML"
    },
    "language_info": {
      "name": "python",
      "version": "3.6.9",
      "mimetype": "text/x-python",
      "codemirror_mode": {
        "name": "ipython",
        "version": 3
      },
      "pygments_lexer": "ipython3",
      "nbconvert_exporter": "python",
      "file_extension": ".py"
    },
    "kernel_info": {
      "name": "python3-azureml"
    },
    "microsoft": {
      "host": {
        "AzureML": {
          "notebookHasBeenCompleted": true
        }
      }
    },
    "nteract": {
      "version": "nteract-front-end@1.0.0"
    }
  },
  "nbformat": 4,
  "nbformat_minor": 2
}